{
 "cells": [
  {
   "cell_type": "markdown",
   "metadata": {},
   "source": [
    "# Persistence diagrams from biased ensembles\n",
    "This script makes the plots involving biased ensembles."
   ]
  },
  {
   "cell_type": "code",
   "execution_count": 1,
   "metadata": {},
   "outputs": [],
   "source": [
    "from gerrychain import Graph, Election, updaters, Partition, constraints, MarkovChain\n",
    "from gerrychain.updaters import cut_edges\n",
    "from gerrychain.proposals import recom, propose_random_flip\n",
    "from gerrychain.tree import recursive_tree_part\n",
    "from gerrychain.accept import always_accept\n",
    "from gerrychain.constraints import single_flip_contiguous\n",
    "import numpy as np\n",
    "import operator\n",
    "from functools import partial\n",
    "import matplotlib\n",
    "import matplotlib.pyplot as plt\n",
    "import geopandas as gpd\n",
    "import math\n",
    "import pickle\n",
    "import sys, os\n",
    "import networkx as nx\n",
    "from collections import defaultdict\n",
    "import tdaredistricting as tdar"
   ]
  },
  {
   "cell_type": "markdown",
   "metadata": {},
   "source": [
    "## Load in the shapefile data\n",
    "The PA shapefile used here is available along with many others at github.com/mggg-states. The election_names and election_columns have to be changed when changing from PA to a different state."
   ]
  },
  {
   "cell_type": "code",
   "execution_count": 2,
   "metadata": {},
   "outputs": [],
   "source": [
    "#updaters\n",
    "election_names = [\"PRES16\", \"SEN16\", \"ATG12\", \"GOV14\", \"GOV10\", \"PRES12\", \"SEN10\", \"ATG16\", \"SEN12\"]\n",
    "election_columns = [\n",
    "    [\"T16PRESD\", \"T16PRESR\"],\n",
    "    [\"T16SEND\", \"T16SENR\"],\n",
    "    [\"ATG12D\", \"ATG12R\"],\n",
    "    [\"F2014GOVD\", \"F2014GOVR\"],\n",
    "    [\"GOV10D\", \"GOV10R\"],\n",
    "    [\"PRES12D\", \"PRES12R\"],\n",
    "    [\"SEN10D\", \"SEN10R\"],\n",
    "    [\"T16ATGD\", \"T16ATGR\"],\n",
    "    [\"USS12D\", \"USS12R\"]\n",
    "] #DEM, REP\n",
    "pop_tol = 0.02\n",
    "pop_col = \"TOTPOP\"\n",
    "myupdaters = {\n",
    "    \"population\": updaters.Tally(pop_col, alias=\"population\"),\n",
    "}\n",
    "elections = [\n",
    "    Election(\n",
    "        election_names[i],\n",
    "        {\"Democratic\": election_columns[i][0], \"Republican\": election_columns[i][1]},\n",
    "    )\n",
    "    for i in range(len(election_names))\n",
    "]\n",
    "election_updaters = {election.name: election for election in elections}\n",
    "myupdaters.update(election_updaters)\n",
    "allparts = {}\n",
    "allgraphs = {}"
   ]
  },
  {
   "cell_type": "code",
   "execution_count": 3,
   "metadata": {},
   "outputs": [],
   "source": [
    "gdf = gpd.read_file(\"PA_VTD_PLANS/PA_VTD_PLANS.shp\")\n",
    "graph = Graph.from_json(\"PA_VTD.json\")"
   ]
  },
  {
   "cell_type": "code",
   "execution_count": 4,
   "metadata": {
    "scrolled": true
   },
   "outputs": [
    {
     "name": "stderr",
     "output_type": "stream",
     "text": [
      "/opt/miniconda3/envs/work311/lib/python3.11/site-packages/pyproj/crs/crs.py:143: FutureWarning: '+init=<authority>:<code>' syntax is deprecated. '<authority>:<code>' is the preferred initialization method. When making the change, be mindful of axis order changes: https://pyproj4.github.io/pyproj/stable/gotchas.html#axis-order-changes-in-proj-6\n",
      "  in_crs_string = _prepare_from_proj_string(in_crs_string)\n"
     ]
    }
   ],
   "source": [
    "gdf = gdf.to_crs({\"init\":\"epsg:2271\"})"
   ]
  },
  {
   "cell_type": "markdown",
   "metadata": {},
   "source": [
    "## Compute biased persistence diagrams\n",
    "\n",
    "You need to run `TDA_PAintoN_bias.py` first to generate the graphs and partitions."
   ]
  },
  {
   "cell_type": "code",
   "execution_count": 5,
   "metadata": {},
   "outputs": [
    {
     "name": "stderr",
     "output_type": "stream",
     "text": [
      "/var/folders/l3/2v7x5klx521_b__wr6yk92_00000gp/T/ipykernel_57927/3622895646.py:2: ResourceWarning: unclosed file <_io.BufferedReader name='Mar23PAbiased/graphs50_Democratic.p'>\n",
      "  graphsDEM = pickle.load(open(folder+\"/graphs50_Democratic.p\", \"rb\"))\n",
      "ResourceWarning: Enable tracemalloc to get the object allocation traceback\n",
      "/var/folders/l3/2v7x5klx521_b__wr6yk92_00000gp/T/ipykernel_57927/3622895646.py:3: ResourceWarning: unclosed file <_io.BufferedReader name='Mar23PAbiased/graphs50_Republican.p'>\n",
      "  graphsREP = pickle.load(open(folder+\"/graphs50_Republican.p\", \"rb\"))\n",
      "ResourceWarning: Enable tracemalloc to get the object allocation traceback\n"
     ]
    }
   ],
   "source": [
    "folder = \"Mar23PAbiased\" #this is where the output of the ReCom run is\n",
    "graphsDEM = pickle.load(open(folder+\"/graphs50_Democratic.p\", \"rb\"))\n",
    "graphsREP = pickle.load(open(folder+\"/graphs50_Republican.p\", \"rb\"))"
   ]
  },
  {
   "cell_type": "code",
   "execution_count": 6,
   "metadata": {},
   "outputs": [],
   "source": [
    "seatsDEM = []\n",
    "for g, w in graphsDEM[\"PRES16\"]:\n",
    "    seatsDEM.append(\n",
    "        len([x for x in w if x > 0.5])\n",
    "    )\n",
    "seatsREP = []\n",
    "for g, w in graphsREP[\"PRES16\"]:\n",
    "    seatsREP.append(\n",
    "        len([x for x in w if x > 0.5])\n",
    "    )"
   ]
  },
  {
   "cell_type": "code",
   "execution_count": 7,
   "metadata": {},
   "outputs": [],
   "source": [
    "e = \"PRES16\"\n",
    "DEMPDs = []\n",
    "REPPDs = []\n",
    "for g, w in graphsDEM[e]:\n",
    "    PD = tdar.persistence_diagram_from_graph(\n",
    "        g,sorted(w)\n",
    "    )\n",
    "    PD[-1] = (PD[-1][0], 1)\n",
    "    PD = sorted(PD, key=lambda x: x[1]-x[0])\n",
    "    DEMPDs.append(PD)\n",
    "for g, w in graphsREP[e]:\n",
    "    PD = tdar.persistence_diagram_from_graph(\n",
    "        g,sorted(w)\n",
    "    )\n",
    "    PD[-1] = (PD[-1][0], 1)\n",
    "    PD = sorted(PD, key=lambda x: x[1]-x[0])\n",
    "    REPPDs.append(PD)"
   ]
  },
  {
   "cell_type": "code",
   "execution_count": 8,
   "metadata": {},
   "outputs": [],
   "source": [
    "#seeds set based on trying every possible starting point\n",
    "#you can either leave seed blank to pick randomly, or use Frechet_mean_reseed for robust but slow results\n",
    "biasedmeans = {}\n",
    "biasedmeans[\"DEM\"] = tdar.Frechet_mean(DEMPDs, seed=714) \n",
    "biasedmeans[\"REP\"] = tdar.Frechet_mean(REPPDs, seed=817)"
   ]
  },
  {
   "cell_type": "markdown",
   "metadata": {},
   "source": [
    "## Plot Frechet means next to each other (no matching)\n",
    "\n",
    "We can plot the two Frechet means next to each other on the same persistence diagram."
   ]
  },
  {
   "cell_type": "code",
   "execution_count": 9,
   "metadata": {},
   "outputs": [
    {
     "data": {
      "text/plain": [
       "[<matplotlib.lines.Line2D at 0x14bfe7d90>]"
      ]
     },
     "execution_count": 9,
     "metadata": {},
     "output_type": "execute_result"
    },
    {
     "data": {
      "image/png": "[encoded data removed]",
      "text/plain": [
       "<Figure size 800x800 with 1 Axes>"
      ]
     },
     "metadata": {},
     "output_type": "display_data"
    }
   ],
   "source": [
    "biasedmeans[\"DEM\"] = sorted(biasedmeans[\"DEM\"], key=lambda x: x[1]-x[0], reverse=True)\n",
    "biasedmeans[\"REP\"] = sorted(biasedmeans[\"REP\"], key=lambda x: x[1]-x[0], reverse=True)\n",
    "fig, ax = plt.subplots(figsize=(8,8))\n",
    "ax.scatter(\n",
    "    [x[0] for x in biasedmeans[\"DEM\"][:7]],\n",
    "    [x[1] for x in biasedmeans[\"DEM\"][:7]],\n",
    "    c='b',s=60\n",
    ")\n",
    "ax.scatter(\n",
    "    [x[0] for x in biasedmeans[\"REP\"][:7]],\n",
    "    [x[1] for x in biasedmeans[\"REP\"][:7]],\n",
    "    c='r',s=60\n",
    ")\n",
    "ax.set_xlim(0,1)\n",
    "ax.set_ylim(0,1.1)\n",
    "ax.set_aspect('equal')\n",
    "ax.plot([0,1],[0,1], linestyle='dashed', color='black')"
   ]
  },
  {
   "cell_type": "markdown",
   "metadata": {},
   "source": [
    "## Plot Frechet means with best persistence matching\n",
    "\n",
    "We can match the points in the two Frechet means by solving the 2-Wasserstein problem. This might not correspond to the geographic matching you would get by looking at the map. If you know the geographic matching, you can hard-code it and adapt the code below to pair up points which are geographically similar."
   ]
  },
  {
   "cell_type": "code",
   "execution_count": 10,
   "metadata": {},
   "outputs": [],
   "source": [
    "match = tdar.match_Hungarian(biasedmeans[\"REP\"], biasedmeans[\"DEM\"])"
   ]
  },
  {
   "cell_type": "code",
   "execution_count": 11,
   "metadata": {},
   "outputs": [
    {
     "data": {
      "text/plain": [
       "[<matplotlib.lines.Line2D at 0x14c0adcd0>]"
      ]
     },
     "execution_count": 11,
     "metadata": {},
     "output_type": "execute_result"
    },
    {
     "data": {
      "image/png": "[encoded data removed]",
      "text/plain": [
       "<Figure size 800x800 with 1 Axes>"
      ]
     },
     "metadata": {},
     "output_type": "display_data"
    }
   ],
   "source": [
    "biasedmeans[\"DEM\"] = sorted(biasedmeans[\"DEM\"], key=lambda x: x[1]-x[0], reverse=True)\n",
    "biasedmeans[\"REP\"] = sorted(biasedmeans[\"REP\"], key=lambda x: x[1]-x[0], reverse=True)\n",
    "fig, ax = plt.subplots(figsize=(8,8))\n",
    "ax.scatter(\n",
    "    [x[0] for x in biasedmeans[\"DEM\"][:7]],\n",
    "    [x[1] for x in biasedmeans[\"DEM\"][:7]],\n",
    "    c='b',s=60\n",
    ")\n",
    "ax.scatter(\n",
    "    [x[0] for x in biasedmeans[\"REP\"][:7]],\n",
    "    [x[1] for x in biasedmeans[\"REP\"][:7]],\n",
    "    c='r',s=60\n",
    ")\n",
    "for i, x in enumerate(biasedmeans[\"DEM\"]):\n",
    "    #non diagonal matched to non diagonal\n",
    "    if len(x) > 1 and len(match[i]) > 1:\n",
    "        ax.plot(\n",
    "            [x[0], match[i][0]],\n",
    "            [x[1], match[i][1]],\n",
    "            c='black'\n",
    "        )\n",
    "\n",
    "ax.set_xlim(0,1)\n",
    "ax.set_ylim(0,1.1)\n",
    "ax.set_aspect('equal')\n",
    "ax.plot([0,1],[0,1], linestyle='dashed', color='black')"
   ]
  }
 ],
 "metadata": {
  "kernelspec": {
   "display_name": "Python 3 (ipykernel)",
   "language": "python",
   "name": "python3"
  },
  "language_info": {
   "codemirror_mode": {
    "name": "ipython",
    "version": 3
   },
   "file_extension": ".py",
   "mimetype": "text/x-python",
   "name": "python",
   "nbconvert_exporter": "python",
   "pygments_lexer": "ipython3",
   "version": "3.11.10"
  }
 },
 "nbformat": 4,
 "nbformat_minor": 4
}
